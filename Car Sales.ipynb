{
 "cells": [
  {
   "cell_type": "code",
   "execution_count": 2,
   "id": "009caeaf",
   "metadata": {},
   "outputs": [
    {
     "name": "stdout",
     "output_type": "stream",
     "text": [
      "Collecting psycopg2\n",
      "  Downloading psycopg2-2.9.6-cp39-cp39-win_amd64.whl (1.2 MB)\n",
      "     ---------------------------------------- 1.2/1.2 MB 4.4 MB/s eta 0:00:00\n",
      "Installing collected packages: psycopg2\n",
      "Successfully installed psycopg2-2.9.6\n"
     ]
    }
   ],
   "source": [
    "!pip install psycopg2"
   ]
  },
  {
   "cell_type": "code",
   "execution_count": 1,
   "id": "653f151e",
   "metadata": {},
   "outputs": [],
   "source": [
    "import psycopg2\n",
    "import pandas as pd"
   ]
  },
  {
   "cell_type": "code",
   "execution_count": 6,
   "id": "d03bf00f",
   "metadata": {},
   "outputs": [],
   "source": [
    "def db_creation():\n",
    "    #connect to postgres\n",
    "    conn = psycopg2.connect(\"host=localhost dbname=postgres user=postgres password=password\")\n",
    "    #create cursor\n",
    "    cur = conn.cursor()\n",
    "    #automatic commit after commands\n",
    "    conn.set_session(autocommit=True)\n",
    "    \n",
    "    \n",
    "    #create carsales database\n",
    "    cur.execute(\"DROP DATABASE carsalesdb\")\n",
    "    cur.execute(\"CREATE DATABASE carsalesdb\")\n",
    "    \n",
    "    #close connection to postgres default db\n",
    "    conn.close()\n",
    "\n",
    "    #connect to carsalesdb\n",
    "    conn = psycopg2.connect(\"host=localhost dbname=carsalesdb user=postgres password=password\")\n",
    "    cur = conn.cursor()\n",
    "    conn.set_session(autocommit=True)\n",
    "\n",
    "    return cur, conn"
   ]
  },
  {
   "cell_type": "code",
   "execution_count": 8,
   "id": "1e5c367b",
   "metadata": {},
   "outputs": [],
   "source": [
    "cur, conn = db_creation()"
   ]
  },
  {
   "cell_type": "code",
   "execution_count": 9,
   "id": "f05ceb48",
   "metadata": {},
   "outputs": [],
   "source": [
    "#car table creation\n",
    "car_table = (\"\"\"CREATE TABLE IF NOT EXISTS cars(\n",
    "transaction_id INT PRIMARY KEY,\n",
    "car_make VARCHAR,\n",
    "car_model VARCHAR,\n",
    "car_year INT)\"\"\")\n",
    "cur.execute(car_table)\n",
    "conn.commit()"
   ]
  },
  {
   "cell_type": "code",
   "execution_count": 10,
   "id": "4b61edc8",
   "metadata": {},
   "outputs": [],
   "source": [
    "#transaction table creation\n",
    "transaction_table = (\"\"\"CREATE TABLE IF NOT EXISTS transactions(\n",
    "transaction_id INT PRIMARY KEY,\n",
    "date DATE,\n",
    "salesperson VARCHAR,\n",
    "customer VARCHAR)\"\"\")\n",
    "cur.execute(transaction_table)\n",
    "conn.commit()"
   ]
  },
  {
   "cell_type": "code",
   "execution_count": 11,
   "id": "8c635175",
   "metadata": {},
   "outputs": [],
   "source": [
    "#sales table creation\n",
    "sales_table = (\"\"\"CREATE TABLE IF NOT EXISTS sales(\n",
    "salesperson VARCHAR,\n",
    "sales_price INT,\n",
    "commission_rate FLOAT,\n",
    "commission_earned FLOAT)\"\"\")\n",
    "cur.execute(sales_table)\n",
    "conn.commit()"
   ]
  },
  {
   "cell_type": "code",
   "execution_count": 2,
   "id": "8b0e095a",
   "metadata": {},
   "outputs": [],
   "source": [
    "#data load\n",
    "Data = pd.read_csv(\"car_sales_data.csv\")"
   ]
  },
  {
   "cell_type": "code",
   "execution_count": 28,
   "id": "f2c25fb7",
   "metadata": {},
   "outputs": [],
   "source": [
    "#cleaning data and creating datasets to put values into tables\n",
    "Cars_data = Data[['Transaction_id', 'Car_Make', 'Car_Model', 'Car_Year']]\n",
    "Transactions_data = Data[['Transaction_id', 'Date', 'Salesperson', 'Customer']]\n",
    "Sales_data = Data[['Salesperson', 'Sales_Price', 'Commission_Rate', 'Commission_Earned']]"
   ]
  },
  {
   "cell_type": "code",
   "execution_count": 26,
   "id": "c36df5f4",
   "metadata": {},
   "outputs": [],
   "source": [
    "#insert data into tables\n",
    "car_table_insert = (\"\"\"INSERT INTO cars(\n",
    "transaction_id,\n",
    "car_make,\n",
    "car_model,\n",
    "car_year)\n",
    "VALUES (%s, %s, %s, %s)\n",
    "\"\"\")"
   ]
  },
  {
   "cell_type": "code",
   "execution_count": 27,
   "id": "8154efc0",
   "metadata": {
    "scrolled": true
   },
   "outputs": [
    {
     "ename": "UniqueViolation",
     "evalue": "duplicate key value violates unique constraint \"cars_pkey\"\nDETAIL:  Key (transaction_id)=(1) already exists.\n",
     "output_type": "error",
     "traceback": [
      "\u001b[1;31m---------------------------------------------------------------------------\u001b[0m",
      "\u001b[1;31mUniqueViolation\u001b[0m                           Traceback (most recent call last)",
      "\u001b[1;32m~\\AppData\\Local\\Temp\\ipykernel_5428\\3162761714.py\u001b[0m in \u001b[0;36m<module>\u001b[1;34m\u001b[0m\n\u001b[0;32m      1\u001b[0m \u001b[1;32mfor\u001b[0m \u001b[0mi\u001b[0m\u001b[1;33m,\u001b[0m \u001b[0mrow\u001b[0m \u001b[1;32min\u001b[0m \u001b[0mCars\u001b[0m\u001b[1;33m.\u001b[0m\u001b[0miterrows\u001b[0m\u001b[1;33m(\u001b[0m\u001b[1;33m)\u001b[0m\u001b[1;33m:\u001b[0m\u001b[1;33m\u001b[0m\u001b[1;33m\u001b[0m\u001b[0m\n\u001b[1;32m----> 2\u001b[1;33m     \u001b[0mcur\u001b[0m\u001b[1;33m.\u001b[0m\u001b[0mexecute\u001b[0m\u001b[1;33m(\u001b[0m\u001b[0mcar_table_insert\u001b[0m\u001b[1;33m,\u001b[0m \u001b[0mlist\u001b[0m\u001b[1;33m(\u001b[0m\u001b[0mrow\u001b[0m\u001b[1;33m)\u001b[0m\u001b[1;33m)\u001b[0m\u001b[1;33m\u001b[0m\u001b[1;33m\u001b[0m\u001b[0m\n\u001b[0m\u001b[0;32m      3\u001b[0m \u001b[0mconn\u001b[0m\u001b[1;33m.\u001b[0m\u001b[0mcommit\u001b[0m\u001b[1;33m(\u001b[0m\u001b[1;33m)\u001b[0m\u001b[1;33m\u001b[0m\u001b[1;33m\u001b[0m\u001b[0m\n",
      "\u001b[1;31mUniqueViolation\u001b[0m: duplicate key value violates unique constraint \"cars_pkey\"\nDETAIL:  Key (transaction_id)=(1) already exists.\n"
     ]
    }
   ],
   "source": [
    "for i, row in Cars_data.iterrows():\n",
    "    cur.execute(car_table_insert, list(row))\n",
    "conn.commit()"
   ]
  },
  {
   "cell_type": "code",
   "execution_count": 30,
   "id": "45d44184",
   "metadata": {},
   "outputs": [
    {
     "ename": "TypeError",
     "evalue": "expected str, bytes or os.PathLike object, not DataFrame",
     "output_type": "error",
     "traceback": [
      "\u001b[1;31m---------------------------------------------------------------------------\u001b[0m",
      "\u001b[1;31mTypeError\u001b[0m                                 Traceback (most recent call last)",
      "\u001b[1;32m~\\AppData\\Local\\Temp\\ipykernel_5428\\4192806544.py\u001b[0m in \u001b[0;36m<module>\u001b[1;34m\u001b[0m\n\u001b[1;32m----> 1\u001b[1;33m \u001b[1;32mwith\u001b[0m \u001b[0mopen\u001b[0m\u001b[1;33m(\u001b[0m\u001b[0mTransactions_data\u001b[0m\u001b[1;33m,\u001b[0m \u001b[1;34m'r'\u001b[0m\u001b[1;33m)\u001b[0m \u001b[1;32mas\u001b[0m \u001b[0mf\u001b[0m\u001b[1;33m:\u001b[0m\u001b[1;33m\u001b[0m\u001b[1;33m\u001b[0m\u001b[0m\n\u001b[0m\u001b[0;32m      2\u001b[0m     \u001b[1;31m# Notice that we don't need the csv module.\u001b[0m\u001b[1;33m\u001b[0m\u001b[1;33m\u001b[0m\u001b[0m\n\u001b[0;32m      3\u001b[0m     \u001b[0mnext\u001b[0m\u001b[1;33m(\u001b[0m\u001b[0mf\u001b[0m\u001b[1;33m)\u001b[0m \u001b[1;31m# Skip the header row.\u001b[0m\u001b[1;33m\u001b[0m\u001b[1;33m\u001b[0m\u001b[0m\n\u001b[0;32m      4\u001b[0m     \u001b[0mcur\u001b[0m\u001b[1;33m.\u001b[0m\u001b[0mcopy_from\u001b[0m\u001b[1;33m(\u001b[0m\u001b[0mf\u001b[0m\u001b[1;33m,\u001b[0m \u001b[1;34m'transactions'\u001b[0m\u001b[1;33m,\u001b[0m \u001b[0msep\u001b[0m\u001b[1;33m=\u001b[0m\u001b[1;34m','\u001b[0m\u001b[1;33m)\u001b[0m\u001b[1;33m\u001b[0m\u001b[1;33m\u001b[0m\u001b[0m\n\u001b[0;32m      5\u001b[0m \u001b[1;33m\u001b[0m\u001b[0m\n",
      "\u001b[1;31mTypeError\u001b[0m: expected str, bytes or os.PathLike object, not DataFrame"
     ]
    }
   ],
   "source": [
    "with open(Transactions_data, 'r') as f:\n",
    "    # Notice that we don't need the csv module.\n",
    "    next(f) # Skip the header row.\n",
    "    cur.copy_from(f, 'transactions', sep=',')\n",
    "\n",
    "conn.commit()"
   ]
  },
  {
   "cell_type": "code",
   "execution_count": 31,
   "id": "9b4c0bb5",
   "metadata": {},
   "outputs": [],
   "source": [
    "#insert data into tables\n",
    "transactions_table_insert = (\"\"\"INSERT INTO transactions(\n",
    "transaction_id,\n",
    "date,\n",
    "salesperson,\n",
    "customer)\n",
    "VALUES (%s, %s, %s, %s)\n",
    "\"\"\")"
   ]
  },
  {
   "cell_type": "code",
   "execution_count": 32,
   "id": "edd02629",
   "metadata": {},
   "outputs": [],
   "source": [
    "for y, row in Transactions_data.iterrows():\n",
    "    cur.execute(transactions_table_insert, list(row))\n",
    "conn.commit()"
   ]
  },
  {
   "cell_type": "code",
   "execution_count": 35,
   "id": "20d2b4cd",
   "metadata": {
    "scrolled": true
   },
   "outputs": [
    {
     "name": "stdout",
     "output_type": "stream",
     "text": [
      "1048574\n"
     ]
    }
   ],
   "source": [
    "print(y)"
   ]
  },
  {
   "cell_type": "code",
   "execution_count": 42,
   "id": "0cbad967",
   "metadata": {},
   "outputs": [
    {
     "data": {
      "text/plain": [
       "1048575"
      ]
     },
     "execution_count": 42,
     "metadata": {},
     "output_type": "execute_result"
    }
   ],
   "source": [
    "count_row = Data.shape[0]\n",
    "count_row"
   ]
  },
  {
   "cell_type": "code",
   "execution_count": 45,
   "id": "04fe8530",
   "metadata": {},
   "outputs": [],
   "source": [
    "#second method with creating another csv with data adjusted to the table\n",
    "with open('sales_data.csv', 'r') as f:\n",
    "    next(f) # Skip the header row.\n",
    "    cur.copy_from(f, 'sales', sep=',')\n",
    "conn.commit()"
   ]
  }
 ],
 "metadata": {
  "kernelspec": {
   "display_name": "Python 3 (ipykernel)",
   "language": "python",
   "name": "python3"
  },
  "language_info": {
   "codemirror_mode": {
    "name": "ipython",
    "version": 3
   },
   "file_extension": ".py",
   "mimetype": "text/x-python",
   "name": "python",
   "nbconvert_exporter": "python",
   "pygments_lexer": "ipython3",
   "version": "3.9.13"
  }
 },
 "nbformat": 4,
 "nbformat_minor": 5
}
