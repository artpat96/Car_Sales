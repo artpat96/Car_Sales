{
 "cells": [
  {
   "cell_type": "code",
   "execution_count": 2,
   "id": "009caeaf",
   "metadata": {},
   "outputs": [
    {
     "name": "stdout",
     "output_type": "stream",
     "text": [
      "Collecting psycopg2\n",
      "  Downloading psycopg2-2.9.6-cp39-cp39-win_amd64.whl (1.2 MB)\n",
      "     ---------------------------------------- 1.2/1.2 MB 4.4 MB/s eta 0:00:00\n",
      "Installing collected packages: psycopg2\n",
      "Successfully installed psycopg2-2.9.6\n"
     ]
    }
   ],
   "source": [
    "!pip install psycopg2"
   ]
  },
  {
   "cell_type": "code",
   "execution_count": 2,
   "id": "653f151e",
   "metadata": {},
   "outputs": [],
   "source": [
    "import psycopg2\n",
    "import pandas as pd"
   ]
  },
  {
   "cell_type": "code",
   "execution_count": 16,
   "id": "d03bf00f",
   "metadata": {},
   "outputs": [],
   "source": [
    "def db_creation():\n",
    "    #connect to postgres\n",
    "    conn = psycopg2.connect(\"host=localhost dbname=postgres user=postgres password=password\")\n",
    "    #create cursor\n",
    "    cur = conn.cursor()\n",
    "    #automatic commit after commands\n",
    "    conn.set_session(autocommit=True)\n",
    "    \n",
    "    \n",
    "    #create carsales database\n",
    "    cur.execute(\"DROP DATABASE carsalesdb\")\n",
    "    cur.execute(\"CREATE DATABASE carsalesdb\")\n",
    "    \n",
    "    #close connection to postgres default db\n",
    "    conn.close()\n",
    "\n",
    "    #connect to carsalesdb\n",
    "    conn = psycopg2.connect(\"host=localhost dbname=carsalesdb user=postgres password=password\")\n",
    "    cur = conn.cursor()\n",
    "    conn.set_session(autocommit=True)\n",
    "\n",
    "    return cur, conn"
   ]
  },
  {
   "cell_type": "code",
   "execution_count": 33,
   "id": "1e5c367b",
   "metadata": {},
   "outputs": [],
   "source": [
    "cur, conn = db_creation()"
   ]
  },
  {
   "cell_type": "code",
   "execution_count": 34,
   "id": "f05ceb48",
   "metadata": {},
   "outputs": [],
   "source": [
    "#car table creation\n",
    "car_table = (\"\"\"CREATE TABLE IF NOT EXISTS cars(\n",
    "transaction_id INT PRIMARY KEY,\n",
    "car_make VARCHAR,\n",
    "car_model VARCHAR,\n",
    "car_year INT)\"\"\")\n",
    "cur.execute(car_table)\n",
    "conn.commit()"
   ]
  },
  {
   "cell_type": "code",
   "execution_count": 35,
   "id": "4b61edc8",
   "metadata": {},
   "outputs": [],
   "source": [
    "#transaction table creation\n",
    "transaction_table = (\"\"\"CREATE TABLE IF NOT EXISTS transactions(\n",
    "transaction_id INT PRIMARY KEY,\n",
    "date DATE,\n",
    "salesperson VARCHAR,\n",
    "customer VARCHAR)\"\"\")\n",
    "cur.execute(transaction_table)\n",
    "conn.commit()"
   ]
  },
  {
   "cell_type": "code",
   "execution_count": 36,
   "id": "8c635175",
   "metadata": {},
   "outputs": [],
   "source": [
    "#sales table creation\n",
    "sales_table = (\"\"\"CREATE TABLE IF NOT EXISTS sales(\n",
    "salesperson VARCHAR,\n",
    "sales_price INT,\n",
    "commission_rate FLOAT,\n",
    "commission_earned FLOAT)\"\"\")\n",
    "cur.execute(sales_table)\n",
    "conn.commit()"
   ]
  },
  {
   "cell_type": "code",
   "execution_count": 5,
   "id": "c422cf3a",
   "metadata": {},
   "outputs": [],
   "source": [
    "#data load\n",
    "Cars = pd.read_csv(\"cars_data.csv\")\n",
    "Transactions = pd.read_csv(\"transactions_data.csv\")\n",
    "Sales = pd.read_csv(\"sales_data.csv\")"
   ]
  },
  {
   "cell_type": "code",
   "execution_count": 6,
   "id": "5311b717",
   "metadata": {},
   "outputs": [
    {
     "data": {
      "text/html": [
       "<div>\n",
       "<style scoped>\n",
       "    .dataframe tbody tr th:only-of-type {\n",
       "        vertical-align: middle;\n",
       "    }\n",
       "\n",
       "    .dataframe tbody tr th {\n",
       "        vertical-align: top;\n",
       "    }\n",
       "\n",
       "    .dataframe thead th {\n",
       "        text-align: right;\n",
       "    }\n",
       "</style>\n",
       "<table border=\"1\" class=\"dataframe\">\n",
       "  <thead>\n",
       "    <tr style=\"text-align: right;\">\n",
       "      <th></th>\n",
       "      <th>Salesperson</th>\n",
       "      <th>Sales_Price</th>\n",
       "      <th>Commission_Rate</th>\n",
       "      <th>Commission_Earned</th>\n",
       "    </tr>\n",
       "  </thead>\n",
       "  <tbody>\n",
       "    <tr>\n",
       "      <th>0</th>\n",
       "      <td>Monica Moore MD</td>\n",
       "      <td>15983</td>\n",
       "      <td>0.070495</td>\n",
       "      <td>1126.73</td>\n",
       "    </tr>\n",
       "    <tr>\n",
       "      <th>1</th>\n",
       "      <td>Roberto Rose</td>\n",
       "      <td>38474</td>\n",
       "      <td>0.134439</td>\n",
       "      <td>5172.40</td>\n",
       "    </tr>\n",
       "    <tr>\n",
       "      <th>2</th>\n",
       "      <td>Ashley Ramos</td>\n",
       "      <td>33340</td>\n",
       "      <td>0.114536</td>\n",
       "      <td>3818.63</td>\n",
       "    </tr>\n",
       "    <tr>\n",
       "      <th>3</th>\n",
       "      <td>Patrick Harris</td>\n",
       "      <td>41937</td>\n",
       "      <td>0.092191</td>\n",
       "      <td>3866.20</td>\n",
       "    </tr>\n",
       "    <tr>\n",
       "      <th>4</th>\n",
       "      <td>Eric Lopez</td>\n",
       "      <td>20256</td>\n",
       "      <td>0.113490</td>\n",
       "      <td>2298.85</td>\n",
       "    </tr>\n",
       "  </tbody>\n",
       "</table>\n",
       "</div>"
      ],
      "text/plain": [
       "       Salesperson  Sales_Price  Commission_Rate  Commission_Earned\n",
       "0  Monica Moore MD        15983         0.070495            1126.73\n",
       "1     Roberto Rose        38474         0.134439            5172.40\n",
       "2     Ashley Ramos        33340         0.114536            3818.63\n",
       "3   Patrick Harris        41937         0.092191            3866.20\n",
       "4       Eric Lopez        20256         0.113490            2298.85"
      ]
     },
     "execution_count": 6,
     "metadata": {},
     "output_type": "execute_result"
    }
   ],
   "source": [
    "Sales.head()"
   ]
  },
  {
   "cell_type": "code",
   "execution_count": 7,
   "id": "276e489d",
   "metadata": {},
   "outputs": [
    {
     "data": {
      "text/html": [
       "<div>\n",
       "<style scoped>\n",
       "    .dataframe tbody tr th:only-of-type {\n",
       "        vertical-align: middle;\n",
       "    }\n",
       "\n",
       "    .dataframe tbody tr th {\n",
       "        vertical-align: top;\n",
       "    }\n",
       "\n",
       "    .dataframe thead th {\n",
       "        text-align: right;\n",
       "    }\n",
       "</style>\n",
       "<table border=\"1\" class=\"dataframe\">\n",
       "  <thead>\n",
       "    <tr style=\"text-align: right;\">\n",
       "      <th></th>\n",
       "      <th>Transaction_id</th>\n",
       "      <th>Car_Make</th>\n",
       "      <th>Car_Model</th>\n",
       "      <th>Car_Year</th>\n",
       "    </tr>\n",
       "  </thead>\n",
       "  <tbody>\n",
       "    <tr>\n",
       "      <th>0</th>\n",
       "      <td>1</td>\n",
       "      <td>Nissan</td>\n",
       "      <td>Altima</td>\n",
       "      <td>2018</td>\n",
       "    </tr>\n",
       "    <tr>\n",
       "      <th>1</th>\n",
       "      <td>2</td>\n",
       "      <td>Nissan</td>\n",
       "      <td>F-150</td>\n",
       "      <td>2016</td>\n",
       "    </tr>\n",
       "    <tr>\n",
       "      <th>2</th>\n",
       "      <td>3</td>\n",
       "      <td>Ford</td>\n",
       "      <td>Civic</td>\n",
       "      <td>2016</td>\n",
       "    </tr>\n",
       "    <tr>\n",
       "      <th>3</th>\n",
       "      <td>4</td>\n",
       "      <td>Ford</td>\n",
       "      <td>Altima</td>\n",
       "      <td>2013</td>\n",
       "    </tr>\n",
       "    <tr>\n",
       "      <th>4</th>\n",
       "      <td>5</td>\n",
       "      <td>Honda</td>\n",
       "      <td>Silverado</td>\n",
       "      <td>2022</td>\n",
       "    </tr>\n",
       "  </tbody>\n",
       "</table>\n",
       "</div>"
      ],
      "text/plain": [
       "   Transaction_id Car_Make  Car_Model  Car_Year\n",
       "0               1   Nissan     Altima      2018\n",
       "1               2   Nissan      F-150      2016\n",
       "2               3     Ford      Civic      2016\n",
       "3               4     Ford     Altima      2013\n",
       "4               5    Honda  Silverado      2022"
      ]
     },
     "execution_count": 7,
     "metadata": {},
     "output_type": "execute_result"
    }
   ],
   "source": [
    "Cars.head()"
   ]
  },
  {
   "cell_type": "code",
   "execution_count": null,
   "id": "8b0e095a",
   "metadata": {},
   "outputs": [],
   "source": []
  }
 ],
 "metadata": {
  "kernelspec": {
   "display_name": "Python 3 (ipykernel)",
   "language": "python",
   "name": "python3"
  },
  "language_info": {
   "codemirror_mode": {
    "name": "ipython",
    "version": 3
   },
   "file_extension": ".py",
   "mimetype": "text/x-python",
   "name": "python",
   "nbconvert_exporter": "python",
   "pygments_lexer": "ipython3",
   "version": "3.9.13"
  }
 },
 "nbformat": 4,
 "nbformat_minor": 5
}
