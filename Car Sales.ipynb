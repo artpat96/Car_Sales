{
 "cells": [
  {
   "cell_type": "code",
   "execution_count": 61,
   "id": "009caeaf",
   "metadata": {},
   "outputs": [
    {
     "name": "stdout",
     "output_type": "stream",
     "text": [
      "Requirement already satisfied: psycopg2 in c:\\users\\apate\\anaconda3\\lib\\site-packages (2.9.6)\n"
     ]
    }
   ],
   "source": [
    "!pip install psycopg2"
   ]
  },
  {
   "cell_type": "code",
   "execution_count": 62,
   "id": "653f151e",
   "metadata": {},
   "outputs": [],
   "source": [
    "import psycopg2\n",
    "import pandas as pd"
   ]
  },
  {
   "cell_type": "code",
   "execution_count": 63,
   "id": "d03bf00f",
   "metadata": {},
   "outputs": [],
   "source": [
    "def db_creation():\n",
    "    #connect to postgres\n",
    "    conn = psycopg2.connect(\"host=localhost dbname=postgres user=postgres password=password\")\n",
    "    #create cursor\n",
    "    cur = conn.cursor()\n",
    "    #automatic commit after commands\n",
    "    conn.set_session(autocommit=True)\n",
    "    \n",
    "    \n",
    "    #create carsales database\n",
    "    cur.execute(\"DROP DATABASE carsalesdb\")\n",
    "    cur.execute(\"CREATE DATABASE carsalesdb\")\n",
    "    \n",
    "    #close connection to postgres default db\n",
    "    conn.close()\n",
    "\n",
    "    #connect to carsalesdb\n",
    "    conn = psycopg2.connect(\"host=localhost dbname=carsalesdb user=postgres password=password\")\n",
    "    cur = conn.cursor()\n",
    "    conn.set_session(autocommit=True)\n",
    "\n",
    "    return cur, conn"
   ]
  },
  {
   "cell_type": "code",
   "execution_count": 66,
   "id": "1e5c367b",
   "metadata": {},
   "outputs": [],
   "source": [
    "cur, conn = db_creation()"
   ]
  },
  {
   "cell_type": "code",
   "execution_count": 67,
   "id": "f05ceb48",
   "metadata": {},
   "outputs": [],
   "source": [
    "#car table creation\n",
    "car_table = (\"\"\"CREATE TABLE IF NOT EXISTS cars(\n",
    "transaction_id INT PRIMARY KEY,\n",
    "car_make VARCHAR,\n",
    "car_model VARCHAR,\n",
    "car_year INT)\"\"\")\n",
    "cur.execute(car_table)\n",
    "conn.commit()"
   ]
  },
  {
   "cell_type": "code",
   "execution_count": 68,
   "id": "4b61edc8",
   "metadata": {},
   "outputs": [],
   "source": [
    "#transaction table creation\n",
    "transaction_table = (\"\"\"CREATE TABLE IF NOT EXISTS transactions(\n",
    "transaction_id INT PRIMARY KEY,\n",
    "date DATE,\n",
    "salesperson VARCHAR,\n",
    "customer VARCHAR)\"\"\")\n",
    "cur.execute(transaction_table)\n",
    "conn.commit()"
   ]
  },
  {
   "cell_type": "code",
   "execution_count": 69,
   "id": "8c635175",
   "metadata": {},
   "outputs": [],
   "source": [
    "#sales table creation\n",
    "sales_table = (\"\"\"CREATE TABLE IF NOT EXISTS sales(\n",
    "salesperson VARCHAR,\n",
    "sales_price INT,\n",
    "commission_rate FLOAT,\n",
    "commission_earned FLOAT)\"\"\")\n",
    "cur.execute(sales_table)\n",
    "conn.commit()"
   ]
  },
  {
   "cell_type": "code",
   "execution_count": 2,
   "id": "8b0e095a",
   "metadata": {},
   "outputs": [],
   "source": [
    "#data load\n",
    "Data = pd.read_csv(\"car_sales_data.csv\")"
   ]
  },
  {
   "cell_type": "code",
   "execution_count": 28,
   "id": "f2c25fb7",
   "metadata": {},
   "outputs": [],
   "source": [
    "#cleaning data and creating datasets to put values into tables\n",
    "Cars_data = Data[['Transaction_id', 'Car_Make', 'Car_Model', 'Car_Year']]\n",
    "Transactions_data = Data[['Transaction_id', 'Date', 'Salesperson', 'Customer']]\n",
    "Sales_data = Data[['Salesperson', 'Sales_Price', 'Commission_Rate', 'Commission_Earned']]"
   ]
  },
  {
   "cell_type": "code",
   "execution_count": 70,
   "id": "c36df5f4",
   "metadata": {},
   "outputs": [],
   "source": [
    "#insert data into car table using iteration method\n",
    "car_table_insert = (\"\"\"INSERT INTO cars(\n",
    "transaction_id,\n",
    "car_make,\n",
    "car_model,\n",
    "car_year)\n",
    "VALUES (%s, %s, %s, %s)\n",
    "\"\"\")"
   ]
  },
  {
   "cell_type": "code",
   "execution_count": 71,
   "id": "8154efc0",
   "metadata": {
    "scrolled": true
   },
   "outputs": [],
   "source": [
    "for i, row in Cars_data.iterrows():\n",
    "    cur.execute(car_table_insert, list(row))\n",
    "conn.commit()"
   ]
  },
  {
   "cell_type": "code",
   "execution_count": 72,
   "id": "45d44184",
   "metadata": {},
   "outputs": [],
   "source": [
    "#creating csv files from dataframes to load data faster\n",
    "Transactions_data.to_csv('transactions_data.csv', sep=',', index=False)\n",
    "Sales_data.to_csv('sales_data.csv', sep=',', index=False)"
   ]
  },
  {
   "cell_type": "code",
   "execution_count": 73,
   "id": "04fe8530",
   "metadata": {},
   "outputs": [],
   "source": [
    "#loading data to the tables directly from csv file\n",
    "with open('sales_data.csv', 'r') as f:\n",
    "    next(f) # Skip the header row.\n",
    "    cur.copy_from(f, 'sales', sep=',')\n",
    "conn.commit()"
   ]
  },
  {
   "cell_type": "code",
   "execution_count": 74,
   "id": "6f6c8848",
   "metadata": {},
   "outputs": [],
   "source": [
    "with open('transactions_data.csv', 'r') as f:\n",
    "    next(f)\n",
    "    cur.copy_from(f, 'transactions', sep=',')\n",
    "conn.commit()"
   ]
  }
 ],
 "metadata": {
  "kernelspec": {
   "display_name": "Python 3 (ipykernel)",
   "language": "python",
   "name": "python3"
  },
  "language_info": {
   "codemirror_mode": {
    "name": "ipython",
    "version": 3
   },
   "file_extension": ".py",
   "mimetype": "text/x-python",
   "name": "python",
   "nbconvert_exporter": "python",
   "pygments_lexer": "ipython3",
   "version": "3.9.13"
  }
 },
 "nbformat": 4,
 "nbformat_minor": 5
}
